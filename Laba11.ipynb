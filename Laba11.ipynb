{
  "nbformat": 4,
  "nbformat_minor": 0,
  "metadata": {
    "colab": {
      "provenance": [],
      "toc_visible": true,
      "mount_file_id": "1ilegOFm-2y9sGQg90R9NlN8yBSoFwtsn",
      "authorship_tag": "ABX9TyOxT5Ii8FL6Y4D96fWJ85uj",
      "include_colab_link": true
    },
    "kernelspec": {
      "name": "python3",
      "display_name": "Python 3"
    },
    "language_info": {
      "name": "python"
    }
  },
  "cells": [
    {
      "cell_type": "markdown",
      "metadata": {
        "id": "view-in-github",
        "colab_type": "text"
      },
      "source": [
        "<a href=\"https://colab.research.google.com/github/GitVarp/-/blob/main/Laba11.ipynb\" target=\"_parent\"><img src=\"https://colab.research.google.com/assets/colab-badge.svg\" alt=\"Open In Colab\"/></a>"
      ]
    },
    {
      "cell_type": "code",
      "source": [
        "!wget https://github.com/GitVarp/-/blob/main/auto-mpg.data-original"
      ],
      "metadata": {
        "colab": {
          "base_uri": "https://localhost:8080/"
        },
        "id": "DDh7OqxjKsmB",
        "outputId": "acd7d409-7bfa-464f-c027-61047f9ded6b"
      },
      "execution_count": 37,
      "outputs": [
        {
          "output_type": "stream",
          "name": "stdout",
          "text": [
            "--2024-05-21 17:22:01--  https://github.com/GitVarp/-/blob/main/auto-mpg.data-original\n",
            "Resolving github.com (github.com)... 20.27.177.113\n",
            "Connecting to github.com (github.com)|20.27.177.113|:443... connected.\n",
            "HTTP request sent, awaiting response... 200 OK\n",
            "Length: unspecified [text/html]\n",
            "Saving to: ‘auto-mpg.data-original.1’\n",
            "\n",
            "auto-mpg.data-origi     [ <=>                ] 177.35K   889KB/s    in 0.2s    \n",
            "\n",
            "2024-05-21 17:22:02 (889 KB/s) - ‘auto-mpg.data-original.1’ saved [181610]\n",
            "\n"
          ]
        }
      ]
    },
    {
      "cell_type": "code",
      "source": [
        "import numpy as np\n",
        "data_path = \"auto-mpg.data-original\"\n",
        "data = np.genfromtxt(data_path, delimiter=\"      \")\n",
        "print(data)"
      ],
      "metadata": {
        "colab": {
          "base_uri": "https://localhost:8080/"
        },
        "id": "4j6JxYNGLUVa",
        "outputId": "359c0adc-0cc9-40e3-bb89-fceb777d40bd"
      },
      "execution_count": 48,
      "outputs": [
        {
          "output_type": "stream",
          "name": "stdout",
          "text": [
            "[[  nan  130. 3504.   nan]\n",
            " [  nan  165. 3693.   nan]\n",
            " [  nan  150. 3436.   nan]\n",
            " ...\n",
            " [  nan   84. 2295.   nan]\n",
            " [  nan   79. 2625.   nan]\n",
            " [  nan   82. 2720.   nan]]\n"
          ]
        }
      ]
    }
  ]
}